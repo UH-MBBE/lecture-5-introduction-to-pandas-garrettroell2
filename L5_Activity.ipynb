{
 "cells": [
  {
   "cell_type": "markdown",
   "metadata": {},
   "source": [
    "# Activity: Exploring Transcript Data with Pandas\n",
    "In this activity, we will apply what we've learned about pandas to explore a dataset containing transcript information. Our dataset, `transcript.csv`, includes columns for `name`, `exonCount`, `geneType`, and `txLen`.\n"
   ]
  },
  {
   "cell_type": "code",
   "execution_count": 1,
   "metadata": {},
   "outputs": [],
   "source": [
    "# First, import pandas as pd\n",
    "import pandas as pd"
   ]
  },
  {
   "cell_type": "markdown",
   "metadata": {},
   "source": [
    "### Loading the Dataset\n",
    "Load the `transcript.csv` file into a DataFrame and display the first five rows to understand what the data looks like."
   ]
  },
  {
   "cell_type": "code",
   "execution_count": 2,
   "metadata": {},
   "outputs": [
    {
     "data": {
      "text/html": [
       "<div>\n",
       "<style scoped>\n",
       "    .dataframe tbody tr th:only-of-type {\n",
       "        vertical-align: middle;\n",
       "    }\n",
       "\n",
       "    .dataframe tbody tr th {\n",
       "        vertical-align: top;\n",
       "    }\n",
       "\n",
       "    .dataframe thead th {\n",
       "        text-align: right;\n",
       "    }\n",
       "</style>\n",
       "<table border=\"1\" class=\"dataframe\">\n",
       "  <thead>\n",
       "    <tr style=\"text-align: right;\">\n",
       "      <th></th>\n",
       "      <th>name</th>\n",
       "      <th>exonCount</th>\n",
       "      <th>geneType</th>\n",
       "      <th>txLen</th>\n",
       "    </tr>\n",
       "  </thead>\n",
       "  <tbody>\n",
       "    <tr>\n",
       "      <th>0</th>\n",
       "      <td>ENST00000237247.6</td>\n",
       "      <td>27</td>\n",
       "      <td>protein_coding</td>\n",
       "      <td>210992</td>\n",
       "    </tr>\n",
       "    <tr>\n",
       "      <th>1</th>\n",
       "      <td>ENST00000371039.1</td>\n",
       "      <td>22</td>\n",
       "      <td>protein_coding</td>\n",
       "      <td>211494</td>\n",
       "    </tr>\n",
       "    <tr>\n",
       "      <th>2</th>\n",
       "      <td>ENST00000371035.3</td>\n",
       "      <td>22</td>\n",
       "      <td>protein_coding</td>\n",
       "      <td>209060</td>\n",
       "    </tr>\n",
       "    <tr>\n",
       "      <th>3</th>\n",
       "      <td>ENST00000468286.1</td>\n",
       "      <td>10</td>\n",
       "      <td>protein_coding</td>\n",
       "      <td>142941</td>\n",
       "    </tr>\n",
       "    <tr>\n",
       "      <th>4</th>\n",
       "      <td>ENST00000371036.3</td>\n",
       "      <td>21</td>\n",
       "      <td>protein_coding</td>\n",
       "      <td>214114</td>\n",
       "    </tr>\n",
       "  </tbody>\n",
       "</table>\n",
       "</div>"
      ],
      "text/plain": [
       "                name  exonCount        geneType   txLen\n",
       "0  ENST00000237247.6         27  protein_coding  210992\n",
       "1  ENST00000371039.1         22  protein_coding  211494\n",
       "2  ENST00000371035.3         22  protein_coding  209060\n",
       "3  ENST00000468286.1         10  protein_coding  142941\n",
       "4  ENST00000371036.3         21  protein_coding  214114"
      ]
     },
     "execution_count": 2,
     "metadata": {},
     "output_type": "execute_result"
    }
   ],
   "source": [
    "# Load the transcript.csv file into a DataFrame\n",
    "transcript_df = pd.read_csv('transcript.csv')\n",
    "\n",
    "\n",
    "# Display the first five rows of the DataFrame\n",
    "transcript_df.head()\n"
   ]
  },
  {
   "cell_type": "markdown",
   "metadata": {},
   "source": [
    "### Basic Data Exploration\n",
    "Let's start by exploring some basic characteristics of our dataset."
   ]
  },
  {
   "cell_type": "code",
   "execution_count": 3,
   "metadata": {},
   "outputs": [
    {
     "data": {
      "text/plain": [
       "(100, 4)"
      ]
     },
     "execution_count": 3,
     "metadata": {},
     "output_type": "execute_result"
    }
   ],
   "source": [
    "# Print the shape of the DataFrame and save it to 'transcript_shape'\n",
    "transcript_df_shape = transcript_df.shape\n",
    "transcript_df_shape "
   ]
  },
  {
   "cell_type": "code",
   "execution_count": 4,
   "metadata": {},
   "outputs": [],
   "source": [
    "# check the shape\n",
    "assert transcript_df_shape == (100, 4)"
   ]
  },
  {
   "cell_type": "markdown",
   "metadata": {},
   "source": [
    "### Filtering Data\n",
    "Now, filter the dataset to find only the transcripts that are of the type `protein_coding`.\n"
   ]
  },
  {
   "cell_type": "code",
   "execution_count": 13,
   "metadata": {},
   "outputs": [
    {
     "data": {
      "text/html": [
       "<div>\n",
       "<style scoped>\n",
       "    .dataframe tbody tr th:only-of-type {\n",
       "        vertical-align: middle;\n",
       "    }\n",
       "\n",
       "    .dataframe tbody tr th {\n",
       "        vertical-align: top;\n",
       "    }\n",
       "\n",
       "    .dataframe thead th {\n",
       "        text-align: right;\n",
       "    }\n",
       "</style>\n",
       "<table border=\"1\" class=\"dataframe\">\n",
       "  <thead>\n",
       "    <tr style=\"text-align: right;\">\n",
       "      <th></th>\n",
       "      <th>name</th>\n",
       "      <th>exonCount</th>\n",
       "      <th>geneType</th>\n",
       "      <th>txLen</th>\n",
       "    </tr>\n",
       "  </thead>\n",
       "  <tbody>\n",
       "    <tr>\n",
       "      <th>0</th>\n",
       "      <td>ENST00000237247.6</td>\n",
       "      <td>27</td>\n",
       "      <td>protein_coding</td>\n",
       "      <td>210992</td>\n",
       "    </tr>\n",
       "    <tr>\n",
       "      <th>1</th>\n",
       "      <td>ENST00000371039.1</td>\n",
       "      <td>22</td>\n",
       "      <td>protein_coding</td>\n",
       "      <td>211494</td>\n",
       "    </tr>\n",
       "    <tr>\n",
       "      <th>2</th>\n",
       "      <td>ENST00000371035.3</td>\n",
       "      <td>22</td>\n",
       "      <td>protein_coding</td>\n",
       "      <td>209060</td>\n",
       "    </tr>\n",
       "    <tr>\n",
       "      <th>3</th>\n",
       "      <td>ENST00000468286.1</td>\n",
       "      <td>10</td>\n",
       "      <td>protein_coding</td>\n",
       "      <td>142941</td>\n",
       "    </tr>\n",
       "    <tr>\n",
       "      <th>4</th>\n",
       "      <td>ENST00000371036.3</td>\n",
       "      <td>21</td>\n",
       "      <td>protein_coding</td>\n",
       "      <td>214114</td>\n",
       "    </tr>\n",
       "    <tr>\n",
       "      <th>...</th>\n",
       "      <td>...</td>\n",
       "      <td>...</td>\n",
       "      <td>...</td>\n",
       "      <td>...</td>\n",
       "    </tr>\n",
       "    <tr>\n",
       "      <th>95</th>\n",
       "      <td>ENST00000373747.3</td>\n",
       "      <td>22</td>\n",
       "      <td>protein_coding</td>\n",
       "      <td>134199</td>\n",
       "    </tr>\n",
       "    <tr>\n",
       "      <th>96</th>\n",
       "      <td>ENST00000426105.2</td>\n",
       "      <td>22</td>\n",
       "      <td>protein_coding</td>\n",
       "      <td>132870</td>\n",
       "    </tr>\n",
       "    <tr>\n",
       "      <th>97</th>\n",
       "      <td>ENST00000440538.2</td>\n",
       "      <td>22</td>\n",
       "      <td>protein_coding</td>\n",
       "      <td>132841</td>\n",
       "    </tr>\n",
       "    <tr>\n",
       "      <th>98</th>\n",
       "      <td>ENST00000373741.4</td>\n",
       "      <td>22</td>\n",
       "      <td>protein_coding</td>\n",
       "      <td>133142</td>\n",
       "    </tr>\n",
       "    <tr>\n",
       "      <th>99</th>\n",
       "      <td>ENST00000423018.2</td>\n",
       "      <td>19</td>\n",
       "      <td>protein_coding</td>\n",
       "      <td>132831</td>\n",
       "    </tr>\n",
       "  </tbody>\n",
       "</table>\n",
       "<p>96 rows × 4 columns</p>\n",
       "</div>"
      ],
      "text/plain": [
       "                 name  exonCount        geneType   txLen\n",
       "0   ENST00000237247.6         27  protein_coding  210992\n",
       "1   ENST00000371039.1         22  protein_coding  211494\n",
       "2   ENST00000371035.3         22  protein_coding  209060\n",
       "3   ENST00000468286.1         10  protein_coding  142941\n",
       "4   ENST00000371036.3         21  protein_coding  214114\n",
       "..                ...        ...             ...     ...\n",
       "95  ENST00000373747.3         22  protein_coding  134199\n",
       "96  ENST00000426105.2         22  protein_coding  132870\n",
       "97  ENST00000440538.2         22  protein_coding  132841\n",
       "98  ENST00000373741.4         22  protein_coding  133142\n",
       "99  ENST00000423018.2         19  protein_coding  132831\n",
       "\n",
       "[96 rows x 4 columns]"
      ]
     },
     "execution_count": 13,
     "metadata": {},
     "output_type": "execute_result"
    }
   ],
   "source": [
    "# Create a new dataframe called protein_coding_df that only contains protein_coding gene types\n",
    "protein_coding_df = transcript_df[transcript_df['geneType'] == 'protein_coding'].copy()\n",
    "\n",
    "protein_coding_df\n"
   ]
  },
  {
   "cell_type": "code",
   "execution_count": 6,
   "metadata": {},
   "outputs": [],
   "source": [
    "assert len(protein_coding_df) == 96\n",
    "assert protein_coding_df['geneType'].unique() == ['protein_coding']"
   ]
  },
  {
   "cell_type": "markdown",
   "metadata": {},
   "source": [
    "### Analyzing Transcript Lengths\n",
    "Calculate the average transcript length (`txLen`) for the `protein_coding` genes."
   ]
  },
  {
   "cell_type": "code",
   "execution_count": 7,
   "metadata": {},
   "outputs": [
    {
     "data": {
      "text/plain": [
       "196796.70833333334"
      ]
     },
     "execution_count": 7,
     "metadata": {},
     "output_type": "execute_result"
    }
   ],
   "source": [
    "# Calculate the average transcript length for protein_coding genes\n",
    "average_txLen = protein_coding_df['txLen'].mean()\n",
    "\n",
    "average_txLen\n"
   ]
  },
  {
   "cell_type": "code",
   "execution_count": 8,
   "metadata": {},
   "outputs": [],
   "source": [
    "assert average_txLen > 196796.7\n",
    "assert average_txLen < 196796.8"
   ]
  },
  {
   "cell_type": "markdown",
   "metadata": {},
   "source": [
    "### Exploring Exon Counts\n",
    "Find the transcript with the highest number of exons and display its details."
   ]
  },
  {
   "cell_type": "code",
   "execution_count": 11,
   "metadata": {},
   "outputs": [
    {
     "data": {
      "text/html": [
       "<div>\n",
       "<style scoped>\n",
       "    .dataframe tbody tr th:only-of-type {\n",
       "        vertical-align: middle;\n",
       "    }\n",
       "\n",
       "    .dataframe tbody tr th {\n",
       "        vertical-align: top;\n",
       "    }\n",
       "\n",
       "    .dataframe thead th {\n",
       "        text-align: right;\n",
       "    }\n",
       "</style>\n",
       "<table border=\"1\" class=\"dataframe\">\n",
       "  <thead>\n",
       "    <tr style=\"text-align: right;\">\n",
       "      <th></th>\n",
       "      <th>name</th>\n",
       "      <th>exonCount</th>\n",
       "      <th>geneType</th>\n",
       "      <th>txLen</th>\n",
       "    </tr>\n",
       "  </thead>\n",
       "  <tbody>\n",
       "    <tr>\n",
       "      <th>0</th>\n",
       "      <td>ENST00000237247.6</td>\n",
       "      <td>27</td>\n",
       "      <td>protein_coding</td>\n",
       "      <td>210992</td>\n",
       "    </tr>\n",
       "    <tr>\n",
       "      <th>70</th>\n",
       "      <td>ENST00000308271.9</td>\n",
       "      <td>27</td>\n",
       "      <td>protein_coding</td>\n",
       "      <td>105028</td>\n",
       "    </tr>\n",
       "    <tr>\n",
       "      <th>72</th>\n",
       "      <td>ENST00000529637.1</td>\n",
       "      <td>27</td>\n",
       "      <td>protein_coding</td>\n",
       "      <td>103625</td>\n",
       "    </tr>\n",
       "  </tbody>\n",
       "</table>\n",
       "</div>"
      ],
      "text/plain": [
       "                 name  exonCount        geneType   txLen\n",
       "0   ENST00000237247.6         27  protein_coding  210992\n",
       "70  ENST00000308271.9         27  protein_coding  105028\n",
       "72  ENST00000529637.1         27  protein_coding  103625"
      ]
     },
     "execution_count": 11,
     "metadata": {},
     "output_type": "execute_result"
    }
   ],
   "source": [
    "# Find the transcript with the highest number of exons\n",
    "max_exons = protein_coding_df['exonCount'].max()\n",
    "\n",
    "max_exon_transcript = protein_coding_df[protein_coding_df['exonCount'] == max_exons] \n",
    "\n",
    "max_exon_transcript"
   ]
  },
  {
   "cell_type": "code",
   "execution_count": 10,
   "metadata": {},
   "outputs": [],
   "source": [
    "assert len(max_exon_transcript) == 3\n"
   ]
  },
  {
   "cell_type": "markdown",
   "metadata": {},
   "source": [
    "### Adding a New Column\n",
    "Add a new column to the DataFrame called `txLenKB` which represents the transcript length in kilobases (1 kilobase = 1000 bases).\n"
   ]
  },
  {
   "cell_type": "code",
   "execution_count": 14,
   "metadata": {},
   "outputs": [
    {
     "data": {
      "text/html": [
       "<div>\n",
       "<style scoped>\n",
       "    .dataframe tbody tr th:only-of-type {\n",
       "        vertical-align: middle;\n",
       "    }\n",
       "\n",
       "    .dataframe tbody tr th {\n",
       "        vertical-align: top;\n",
       "    }\n",
       "\n",
       "    .dataframe thead th {\n",
       "        text-align: right;\n",
       "    }\n",
       "</style>\n",
       "<table border=\"1\" class=\"dataframe\">\n",
       "  <thead>\n",
       "    <tr style=\"text-align: right;\">\n",
       "      <th></th>\n",
       "      <th>name</th>\n",
       "      <th>exonCount</th>\n",
       "      <th>geneType</th>\n",
       "      <th>txLen</th>\n",
       "      <th>txLenKB</th>\n",
       "    </tr>\n",
       "  </thead>\n",
       "  <tbody>\n",
       "    <tr>\n",
       "      <th>0</th>\n",
       "      <td>ENST00000237247.6</td>\n",
       "      <td>27</td>\n",
       "      <td>protein_coding</td>\n",
       "      <td>210992</td>\n",
       "      <td>210.992</td>\n",
       "    </tr>\n",
       "    <tr>\n",
       "      <th>1</th>\n",
       "      <td>ENST00000371039.1</td>\n",
       "      <td>22</td>\n",
       "      <td>protein_coding</td>\n",
       "      <td>211494</td>\n",
       "      <td>211.494</td>\n",
       "    </tr>\n",
       "    <tr>\n",
       "      <th>2</th>\n",
       "      <td>ENST00000371035.3</td>\n",
       "      <td>22</td>\n",
       "      <td>protein_coding</td>\n",
       "      <td>209060</td>\n",
       "      <td>209.060</td>\n",
       "    </tr>\n",
       "    <tr>\n",
       "      <th>3</th>\n",
       "      <td>ENST00000468286.1</td>\n",
       "      <td>10</td>\n",
       "      <td>protein_coding</td>\n",
       "      <td>142941</td>\n",
       "      <td>142.941</td>\n",
       "    </tr>\n",
       "    <tr>\n",
       "      <th>4</th>\n",
       "      <td>ENST00000371036.3</td>\n",
       "      <td>21</td>\n",
       "      <td>protein_coding</td>\n",
       "      <td>214114</td>\n",
       "      <td>214.114</td>\n",
       "    </tr>\n",
       "  </tbody>\n",
       "</table>\n",
       "</div>"
      ],
      "text/plain": [
       "                name  exonCount        geneType   txLen  txLenKB\n",
       "0  ENST00000237247.6         27  protein_coding  210992  210.992\n",
       "1  ENST00000371039.1         22  protein_coding  211494  211.494\n",
       "2  ENST00000371035.3         22  protein_coding  209060  209.060\n",
       "3  ENST00000468286.1         10  protein_coding  142941  142.941\n",
       "4  ENST00000371036.3         21  protein_coding  214114  214.114"
      ]
     },
     "execution_count": 14,
     "metadata": {},
     "output_type": "execute_result"
    }
   ],
   "source": [
    "# Add a new column for transcript length in kilobases\n",
    "protein_coding_df['txLenKB'] = protein_coding_df['txLen'] / 1000\n",
    "\n",
    "protein_coding_df.head()"
   ]
  },
  {
   "cell_type": "markdown",
   "metadata": {},
   "source": [
    "### Sorting Data\n",
    "Sort the DataFrame based on the `txLenKB` column in descending order to see the longest transcripts first.\n"
   ]
  },
  {
   "cell_type": "code",
   "execution_count": 16,
   "metadata": {},
   "outputs": [
    {
     "data": {
      "text/html": [
       "<div>\n",
       "<style scoped>\n",
       "    .dataframe tbody tr th:only-of-type {\n",
       "        vertical-align: middle;\n",
       "    }\n",
       "\n",
       "    .dataframe tbody tr th {\n",
       "        vertical-align: top;\n",
       "    }\n",
       "\n",
       "    .dataframe thead th {\n",
       "        text-align: right;\n",
       "    }\n",
       "</style>\n",
       "<table border=\"1\" class=\"dataframe\">\n",
       "  <thead>\n",
       "    <tr style=\"text-align: right;\">\n",
       "      <th></th>\n",
       "      <th>name</th>\n",
       "      <th>exonCount</th>\n",
       "      <th>geneType</th>\n",
       "      <th>txLen</th>\n",
       "      <th>txLenKB</th>\n",
       "    </tr>\n",
       "  </thead>\n",
       "  <tbody>\n",
       "    <tr>\n",
       "      <th>26</th>\n",
       "      <td>ENST00000485760.1</td>\n",
       "      <td>21</td>\n",
       "      <td>protein_coding</td>\n",
       "      <td>1548835</td>\n",
       "      <td>1548.835</td>\n",
       "    </tr>\n",
       "    <tr>\n",
       "      <th>23</th>\n",
       "      <td>ENST00000371839.1</td>\n",
       "      <td>14</td>\n",
       "      <td>protein_coding</td>\n",
       "      <td>1491059</td>\n",
       "      <td>1491.059</td>\n",
       "    </tr>\n",
       "    <tr>\n",
       "      <th>24</th>\n",
       "      <td>ENST00000371838.1</td>\n",
       "      <td>9</td>\n",
       "      <td>protein_coding</td>\n",
       "      <td>1389706</td>\n",
       "      <td>1389.706</td>\n",
       "    </tr>\n",
       "    <tr>\n",
       "      <th>25</th>\n",
       "      <td>ENST00000371836.1</td>\n",
       "      <td>7</td>\n",
       "      <td>protein_coding</td>\n",
       "      <td>1206394</td>\n",
       "      <td>1206.394</td>\n",
       "    </tr>\n",
       "    <tr>\n",
       "      <th>63</th>\n",
       "      <td>ENST00000303635.7</td>\n",
       "      <td>23</td>\n",
       "      <td>protein_coding</td>\n",
       "      <td>984383</td>\n",
       "      <td>984.383</td>\n",
       "    </tr>\n",
       "  </tbody>\n",
       "</table>\n",
       "</div>"
      ],
      "text/plain": [
       "                 name  exonCount        geneType    txLen   txLenKB\n",
       "26  ENST00000485760.1         21  protein_coding  1548835  1548.835\n",
       "23  ENST00000371839.1         14  protein_coding  1491059  1491.059\n",
       "24  ENST00000371838.1          9  protein_coding  1389706  1389.706\n",
       "25  ENST00000371836.1          7  protein_coding  1206394  1206.394\n",
       "63  ENST00000303635.7         23  protein_coding   984383   984.383"
      ]
     },
     "execution_count": 16,
     "metadata": {},
     "output_type": "execute_result"
    }
   ],
   "source": [
    "# Sort the DataFrame by txLenKB in descending order\n",
    "protein_coding_df.sort_values(by='txLenKB', ascending=False, inplace=\n",
    "\n",
    "protein_coding_df.head()\n"
   ]
  },
  {
   "cell_type": "code",
   "execution_count": 18,
   "metadata": {},
   "outputs": [
    {
     "data": {
      "text/html": [
       "<div>\n",
       "<style scoped>\n",
       "    .dataframe tbody tr th:only-of-type {\n",
       "        vertical-align: middle;\n",
       "    }\n",
       "\n",
       "    .dataframe tbody tr th {\n",
       "        vertical-align: top;\n",
       "    }\n",
       "\n",
       "    .dataframe thead th {\n",
       "        text-align: right;\n",
       "    }\n",
       "</style>\n",
       "<table border=\"1\" class=\"dataframe\">\n",
       "  <thead>\n",
       "    <tr style=\"text-align: right;\">\n",
       "      <th></th>\n",
       "      <th>name</th>\n",
       "      <th>exonCount</th>\n",
       "      <th>geneType</th>\n",
       "      <th>txLen</th>\n",
       "      <th>txLenKB</th>\n",
       "    </tr>\n",
       "  </thead>\n",
       "  <tbody>\n",
       "    <tr>\n",
       "      <th>26</th>\n",
       "      <td>ENST00000485760.1</td>\n",
       "      <td>21</td>\n",
       "      <td>protein_coding</td>\n",
       "      <td>1548835</td>\n",
       "      <td>1548.835</td>\n",
       "    </tr>\n",
       "    <tr>\n",
       "      <th>23</th>\n",
       "      <td>ENST00000371839.1</td>\n",
       "      <td>14</td>\n",
       "      <td>protein_coding</td>\n",
       "      <td>1491059</td>\n",
       "      <td>1491.059</td>\n",
       "    </tr>\n",
       "    <tr>\n",
       "      <th>24</th>\n",
       "      <td>ENST00000371838.1</td>\n",
       "      <td>9</td>\n",
       "      <td>protein_coding</td>\n",
       "      <td>1389706</td>\n",
       "      <td>1389.706</td>\n",
       "    </tr>\n",
       "    <tr>\n",
       "      <th>25</th>\n",
       "      <td>ENST00000371836.1</td>\n",
       "      <td>7</td>\n",
       "      <td>protein_coding</td>\n",
       "      <td>1206394</td>\n",
       "      <td>1206.394</td>\n",
       "    </tr>\n",
       "    <tr>\n",
       "      <th>63</th>\n",
       "      <td>ENST00000303635.7</td>\n",
       "      <td>23</td>\n",
       "      <td>protein_coding</td>\n",
       "      <td>984383</td>\n",
       "      <td>984.383</td>\n",
       "    </tr>\n",
       "    <tr>\n",
       "      <th>...</th>\n",
       "      <td>...</td>\n",
       "      <td>...</td>\n",
       "      <td>...</td>\n",
       "      <td>...</td>\n",
       "      <td>...</td>\n",
       "    </tr>\n",
       "    <tr>\n",
       "      <th>11</th>\n",
       "      <td>ENST00000457722.2</td>\n",
       "      <td>8</td>\n",
       "      <td>protein_coding</td>\n",
       "      <td>18350</td>\n",
       "      <td>18.350</td>\n",
       "    </tr>\n",
       "    <tr>\n",
       "      <th>10</th>\n",
       "      <td>ENST00000504551.2</td>\n",
       "      <td>6</td>\n",
       "      <td>protein_coding</td>\n",
       "      <td>18288</td>\n",
       "      <td>18.288</td>\n",
       "    </tr>\n",
       "    <tr>\n",
       "      <th>66</th>\n",
       "      <td>ENST00000321556.4</td>\n",
       "      <td>8</td>\n",
       "      <td>protein_coding</td>\n",
       "      <td>18057</td>\n",
       "      <td>18.057</td>\n",
       "    </tr>\n",
       "    <tr>\n",
       "      <th>62</th>\n",
       "      <td>ENST00000343813.5</td>\n",
       "      <td>5</td>\n",
       "      <td>protein_coding</td>\n",
       "      <td>14748</td>\n",
       "      <td>14.748</td>\n",
       "    </tr>\n",
       "    <tr>\n",
       "      <th>67</th>\n",
       "      <td>ENST00000492302.1</td>\n",
       "      <td>5</td>\n",
       "      <td>protein_coding</td>\n",
       "      <td>13188</td>\n",
       "      <td>13.188</td>\n",
       "    </tr>\n",
       "  </tbody>\n",
       "</table>\n",
       "<p>96 rows × 5 columns</p>\n",
       "</div>"
      ],
      "text/plain": [
       "                 name  exonCount        geneType    txLen   txLenKB\n",
       "26  ENST00000485760.1         21  protein_coding  1548835  1548.835\n",
       "23  ENST00000371839.1         14  protein_coding  1491059  1491.059\n",
       "24  ENST00000371838.1          9  protein_coding  1389706  1389.706\n",
       "25  ENST00000371836.1          7  protein_coding  1206394  1206.394\n",
       "63  ENST00000303635.7         23  protein_coding   984383   984.383\n",
       "..                ...        ...             ...      ...       ...\n",
       "11  ENST00000457722.2          8  protein_coding    18350    18.350\n",
       "10  ENST00000504551.2          6  protein_coding    18288    18.288\n",
       "66  ENST00000321556.4          8  protein_coding    18057    18.057\n",
       "62  ENST00000343813.5          5  protein_coding    14748    14.748\n",
       "67  ENST00000492302.1          5  protein_coding    13188    13.188\n",
       "\n",
       "[96 rows x 5 columns]"
      ]
     },
     "execution_count": 18,
     "metadata": {},
     "output_type": "execute_result"
    }
   ],
   "source": [
    "protein_coding_df"
   ]
  },
  {
   "cell_type": "markdown",
   "metadata": {},
   "source": [
    "### Saving Your Work\n",
    "Finally, save your filtered DataFrame of `protein_coding` genes into a new CSV file named `protein_coding_transcripts.csv`.\n"
   ]
  },
  {
   "cell_type": "code",
   "execution_count": 17,
   "metadata": {},
   "outputs": [],
   "source": [
    "# Save the protein_coding DataFrame to a new CSV file\n",
    "protein_coding_df.to_csv('protein_coding_transcripts.csv', index=False)"
   ]
  }
 ],
 "metadata": {
  "kernelspec": {
   "display_name": "Python 3",
   "language": "python",
   "name": "python3"
  },
  "language_info": {
   "codemirror_mode": {
    "name": "ipython",
    "version": 3
   },
   "file_extension": ".py",
   "mimetype": "text/x-python",
   "name": "python",
   "nbconvert_exporter": "python",
   "pygments_lexer": "ipython3",
   "version": "3.10.12"
  }
 },
 "nbformat": 4,
 "nbformat_minor": 2
}
